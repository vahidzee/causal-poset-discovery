{
 "cells": [
  {
   "cell_type": "code",
   "execution_count": 1,
   "metadata": {},
   "outputs": [
    {
     "name": "stdout",
     "output_type": "stream",
     "text": [
      "cuda:2\n"
     ]
    }
   ],
   "source": [
    "import sys\n",
    "sys.path.append('../')\n",
    "import torch\n",
    "from torch.utils.data import TensorDataset, DataLoader\n",
    "import matplotlib.pyplot as plt\n",
    "from notebooks.notebook_setup import device, smooth_graph, create_new_set_of_models, train_models_and_get_histories, update_dict\n",
    "from ocd.models.oslow import OSlowTest\n",
    "from ocd.data.synthetic.graph_generator import GraphGenerator\n",
    "from ocd.data.synthetic.utils import RandomGenerator\n",
    "from ocd.data.synthetic.parametric import AffineParametericDataset\n",
    "from ocd.data.synthetic.nonparametric import AffineNonParametericDataset\n",
    "from ocd.models.normalization import ActNorm\n",
    "from ocd.training.trainer import Trainer\n",
    "from ocd.config import GumbelTopKConfig, BirkhoffConfig, GumbelSinkhornStraightThroughConfig, ContrastiveDivergenceConfig\n",
    "from tqdm import tqdm\n",
    "import numpy as np\n",
    "\n",
    "%load_ext autoreload\n",
    "%autoreload 2\n",
    "device = 'cuda:2'\n",
    "print(device)\n",
    "\n",
    "num_samples = 128\n",
    "permutation_batch_size = 128\n",
    "flow_batch_size = 128\n",
    "epochs = 50\n",
    "flow_lr = 0.0001\n",
    "perm_lr = 0.000001\n",
    "flow_freq = 1\n",
    "perm_freq = 0\n",
    "num_nodes = 4\n",
    "\n",
    "graph_generator = GraphGenerator(\n",
    "    num_nodes=num_nodes,\n",
    "    seed=12,\n",
    "    graph_type=\"full\",\n",
    "    enforce_ordering=[i for i in range(num_nodes)],\n",
    ")\n",
    "graph = graph_generator.generate_dag()\n",
    "\n",
    "# These generators are also needed to generate the data\n",
    "gaussian_noise_generator = RandomGenerator('normal', seed=30, loc=0, scale=1)\n",
    "link_generator = RandomGenerator('uniform', seed=1100, low=1, high=1)\n",
    "\n",
    "# parameteric with sin(x) + x non-linearity and softplus\n",
    "dset_sinusoidal = AffineParametericDataset(\n",
    "    num_samples=num_samples,\n",
    "    graph=graph,\n",
    "    noise_generator=gaussian_noise_generator,\n",
    "    link_generator=link_generator,\n",
    "    link=\"sinusoid\",\n",
    "    perform_normalization=False,\n",
    ")\n",
    "class CustomTensorDataset(torch.utils.data.Dataset):\n",
    "    r\"\"\"Dataset wrapping tensors.\n",
    "\n",
    "    Each sample will be retrieved by indexing tensors along the first dimension.\n",
    "\n",
    "    Args:\n",
    "        *tensors (Tensor): tensors that have the same size of the first dimension.\n",
    "    \"\"\"\n",
    "\n",
    "    def __init__(self, tensor: torch.Tensor) -> None:\n",
    "        self.tensor = tensor\n",
    "\n",
    "    def __getitem__(self, index):\n",
    "        return self.tensor[index]\n",
    "\n",
    "    def __len__(self):\n",
    "        return len(self.tensor)\n",
    "\n",
    "\n",
    "dataset = CustomTensorDataset(torch.tensor(dset_sinusoidal.samples.values).float())\n",
    "flow_dataloader = DataLoader(dataset, batch_size=flow_batch_size, shuffle=True)\n",
    "permutation_dataloader = DataLoader(dataset, batch_size=permutation_batch_size, shuffle=True)"
   ]
  },
  {
   "cell_type": "code",
   "execution_count": 2,
   "metadata": {},
   "outputs": [
    {
     "name": "stderr",
     "output_type": "stream",
     "text": [
      "2024-02-08 02:03:36 ERROR    Failed to detect the name of this notebook, you can set it manually with the WANDB_NOTEBOOK_NAME environment variable to enable code saving.\n",
      "\u001b[34m\u001b[1mwandb\u001b[0m: Currently logged in as: \u001b[33mhamidrezakamkari\u001b[0m (\u001b[33mordered-causal-discovery\u001b[0m). Use \u001b[1m`wandb login --relogin`\u001b[0m to force relogin\n"
     ]
    },
    {
     "data": {
      "text/html": [
       "wandb version 0.16.3 is available!  To upgrade, please run:\n",
       " $ pip install wandb --upgrade"
      ],
      "text/plain": [
       "<IPython.core.display.HTML object>"
      ]
     },
     "metadata": {},
     "output_type": "display_data"
    },
    {
     "data": {
      "text/html": [
       "Tracking run with wandb version 0.16.2"
      ],
      "text/plain": [
       "<IPython.core.display.HTML object>"
      ]
     },
     "metadata": {},
     "output_type": "display_data"
    },
    {
     "data": {
      "text/html": [
       "Run data is saved locally in <code>/home/hamid/ocdaf/notebooks/wandb/run-20240208_020336-lvhvg20o</code>"
      ],
      "text/plain": [
       "<IPython.core.display.HTML object>"
      ]
     },
     "metadata": {},
     "output_type": "display_data"
    },
    {
     "data": {
      "text/html": [
       "Syncing run <strong><a href='https://wandb.ai/ordered-causal-discovery/notebooks/runs/lvhvg20o' target=\"_blank\">glowing-totem-82</a></strong> to <a href='https://wandb.ai/ordered-causal-discovery/notebooks' target=\"_blank\">Weights & Biases</a> (<a href='https://wandb.me/run' target=\"_blank\">docs</a>)<br/>"
      ],
      "text/plain": [
       "<IPython.core.display.HTML object>"
      ]
     },
     "metadata": {},
     "output_type": "display_data"
    },
    {
     "data": {
      "text/html": [
       " View project at <a href='https://wandb.ai/ordered-causal-discovery/notebooks' target=\"_blank\">https://wandb.ai/ordered-causal-discovery/notebooks</a>"
      ],
      "text/plain": [
       "<IPython.core.display.HTML object>"
      ]
     },
     "metadata": {},
     "output_type": "display_data"
    },
    {
     "data": {
      "text/html": [
       " View run at <a href='https://wandb.ai/ordered-causal-discovery/notebooks/runs/lvhvg20o' target=\"_blank\">https://wandb.ai/ordered-causal-discovery/notebooks/runs/lvhvg20o</a>"
      ],
      "text/plain": [
       "<IPython.core.display.HTML object>"
      ]
     },
     "metadata": {},
     "output_type": "display_data"
    },
    {
     "name": "stderr",
     "output_type": "stream",
     "text": [
      "wandb: WARNING Source type is set to 'repo' but some required information is missing from the environment. A job will not be created from this run. See https://docs.wandb.ai/guides/launch/create-job\n"
     ]
    },
    {
     "data": {
      "application/vnd.jupyter.widget-view+json": {
       "model_id": "f3055635a9db412ea3a75b5eb5828140",
       "version_major": 2,
       "version_minor": 0
      },
      "text/plain": [
       "VBox(children=(Label(value='0.006 MB of 0.006 MB uploaded\\r'), FloatProgress(value=1.0, max=1.0)))"
      ]
     },
     "metadata": {},
     "output_type": "display_data"
    },
    {
     "data": {
      "text/html": [
       "<style>\n",
       "    table.wandb td:nth-child(1) { padding: 0 10px; text-align: left ; width: auto;} td:nth-child(2) {text-align: left ; width: 100%}\n",
       "    .wandb-row { display: flex; flex-direction: row; flex-wrap: wrap; justify-content: flex-start; width: 100% }\n",
       "    .wandb-col { display: flex; flex-direction: column; flex-basis: 100%; flex: 1; padding: 10px; }\n",
       "    </style>\n",
       "<div class=\"wandb-row\"><div class=\"wandb-col\"><h3>Run history:</h3><br/><table class=\"wandb\"><tr><td>epoch</td><td>▁▁▁▂▂▂▂▂▂▃▃▃▃▃▄▄▄▄▄▄▅▅▅▅▅▅▆▆▆▆▆▇▇▇▇▇▇███</td></tr><tr><td>flow/loss</td><td>███▇▇▇▆▆▆▆▄▅▅▅▆▅▄▃▄▄▄▃▃▃▃▃▃▃▂▃▃▁▂▁▂▁▁▂▂▁</td></tr><tr><td>flow/step</td><td>▁▁▁▂▂▂▂▂▂▃▃▃▃▃▄▄▄▄▄▄▅▅▅▅▅▅▆▆▆▆▆▇▇▇▇▇▇███</td></tr><tr><td>permutation/temperature</td><td>▁▁▁▁▁▁▁▁▁▁▁▁▁▁▁▁▁▁▁▁▁▁▁▁▁▁▁▁▁▁▁▁▁▁▁▁▁▁▁▁</td></tr></table><br/></div><div class=\"wandb-col\"><h3>Run summary:</h3><br/><table class=\"wandb\"><tr><td>epoch</td><td>499</td></tr><tr><td>flow/loss</td><td>11.58074</td></tr><tr><td>flow/step</td><td>500</td></tr><tr><td>permutation/temperature</td><td>1.0</td></tr></table><br/></div></div>"
      ],
      "text/plain": [
       "<IPython.core.display.HTML object>"
      ]
     },
     "metadata": {},
     "output_type": "display_data"
    },
    {
     "data": {
      "text/html": [
       " View run <strong style=\"color:#cdcd00\">glowing-totem-82</strong> at: <a href='https://wandb.ai/ordered-causal-discovery/notebooks/runs/lvhvg20o' target=\"_blank\">https://wandb.ai/ordered-causal-discovery/notebooks/runs/lvhvg20o</a><br/>Synced 5 W&B file(s), 0 media file(s), 0 artifact file(s) and 0 other file(s)"
      ],
      "text/plain": [
       "<IPython.core.display.HTML object>"
      ]
     },
     "metadata": {},
     "output_type": "display_data"
    },
    {
     "data": {
      "text/html": [
       "Find logs at: <code>./wandb/run-20240208_020336-lvhvg20o/logs</code>"
      ],
      "text/plain": [
       "<IPython.core.display.HTML object>"
      ]
     },
     "metadata": {},
     "output_type": "display_data"
    }
   ],
   "source": [
    "%autoreload 2\n",
    "\n",
    "from ocd.visualization.birkhoff import get_all_permutation_matrices\n",
    "from ocd.models.oslow import OSlow\n",
    "import wandb\n",
    "\n",
    "torch.random.manual_seed(101)\n",
    "model = OSlow(in_features=num_nodes,\n",
    "              layers=[128, 64, 128],\n",
    "              dropout=None,\n",
    "              residual=False,\n",
    "              activation=torch.nn.LeakyReLU(),\n",
    "              additive=False,\n",
    "              num_transforms=1,\n",
    "              normalization=ActNorm,\n",
    "              base_distribution=torch.distributions.Normal(loc=0, scale=1),\n",
    "              ordering=None)\n",
    "\n",
    "\n",
    "def flow_optimizer(params): return torch.optim.AdamW(params, lr=flow_lr)\n",
    "def perm_optimizer(params): return torch.optim.AdamW(params, lr=perm_lr)\n",
    "\n",
    "\n",
    "permutation_learning_config = GumbelTopKConfig(\n",
    "    num_samples=num_samples,\n",
    "    buffer_size=10,\n",
    "    buffer_update=10,\n",
    "    set_gamma_uniform=True,\n",
    ")\n",
    "\n",
    "\n",
    "# permutation_learning_config = GumbelSinkhornStraightThroughConfig(temp=0.1, iters=20)\n",
    "temperature_scheduler = 'constant'\n",
    "temperature = 1.0\n",
    "\n",
    "birkhoff_config = None if num_nodes > 4 else BirkhoffConfig(\n",
    "    num_samples=100, frequency=500, print_legend=False)\n",
    "trainer = Trainer(model=model,\n",
    "                  dag=graph,\n",
    "                  flow_dataloader=flow_dataloader,\n",
    "                  perm_dataloader=permutation_dataloader,\n",
    "                  flow_optimizer=flow_optimizer,\n",
    "                  permutation_optimizer=perm_optimizer,\n",
    "                  flow_frequency=flow_freq,\n",
    "                  temperature=temperature,\n",
    "                  temperature_scheduler=temperature_scheduler,\n",
    "                  permutation_frequency=perm_freq,\n",
    "                  max_epochs=epochs,\n",
    "                  flow_lr_scheduler=torch.optim.lr_scheduler.ConstantLR,\n",
    "                  permutation_lr_scheduler=torch.optim.lr_scheduler.ConstantLR,\n",
    "                  permutation_learning_config=permutation_learning_config,\n",
    "                  birkhoff_config=birkhoff_config,\n",
    "                  device=device)\n",
    "wandb.init(project=\"notebooks\", entity=\"ordered-causal-discovery\",\n",
    "            tags=[\n",
    "                permutation_learning_config.method,\n",
    "                f\"num_nodes-{num_nodes}\",\n",
    "                f\"epochs-{epochs}\",\n",
    "                f\"base-temperature-{temperature}\",\n",
    "                f\"temperature-scheduling-{temperature_scheduler}\",\n",
    "                \"no-sigmoid\",\n",
    "            ],)\n",
    "trainer.train()\n",
    "wandb.finish()"
   ]
  },
  {
   "cell_type": "code",
   "execution_count": 3,
   "metadata": {},
   "outputs": [
    {
     "name": "stdout",
     "output_type": "stream",
     "text": [
      "Permutation: 0123\n",
      "Log Prob: -11.43497085571289\n",
      "Backward count: 0.0\n",
      "\n",
      "-----\n",
      "Permutation: 0132\n",
      "Log Prob: -11.546119689941406\n",
      "Backward count: 0.16666666666666666\n",
      "\n",
      "-----\n",
      "Permutation: 0213\n",
      "Log Prob: -11.409139633178711\n",
      "Backward count: 0.16666666666666666\n",
      "\n",
      "-----\n",
      "Permutation: 0231\n",
      "Log Prob: -11.483750343322754\n",
      "Backward count: 0.3333333333333333\n",
      "\n",
      "-----\n",
      "Permutation: 0312\n",
      "Log Prob: -11.64573860168457\n",
      "Backward count: 0.3333333333333333\n",
      "\n",
      "-----\n",
      "Permutation: 0321\n",
      "Log Prob: -11.80242919921875\n",
      "Backward count: 0.5\n",
      "\n",
      "-----\n",
      "Permutation: 1023\n",
      "Log Prob: -11.593600273132324\n",
      "Backward count: 0.16666666666666666\n",
      "\n",
      "-----\n",
      "Permutation: 1032\n",
      "Log Prob: -11.777194023132324\n",
      "Backward count: 0.3333333333333333\n",
      "\n",
      "-----\n",
      "Permutation: 1203\n",
      "Log Prob: -11.480525970458984\n",
      "Backward count: 0.3333333333333333\n",
      "\n",
      "-----\n",
      "Permutation: 1230\n",
      "Log Prob: -11.472400665283203\n",
      "Backward count: 0.5\n",
      "\n",
      "-----\n",
      "Permutation: 1302\n",
      "Log Prob: -11.686861038208008\n",
      "Backward count: 0.5\n",
      "\n",
      "-----\n",
      "Permutation: 1320\n",
      "Log Prob: -11.69482135772705\n",
      "Backward count: 0.6666666666666666\n",
      "\n",
      "-----\n",
      "Permutation: 2013\n",
      "Log Prob: -11.635430335998535\n",
      "Backward count: 0.3333333333333333\n",
      "\n",
      "-----\n",
      "Permutation: 2031\n",
      "Log Prob: -11.632389068603516\n",
      "Backward count: 0.5\n",
      "\n",
      "-----\n",
      "Permutation: 2103\n",
      "Log Prob: -11.573542594909668\n",
      "Backward count: 0.5\n",
      "\n",
      "-----\n",
      "Permutation: 2130\n",
      "Log Prob: -11.60634994506836\n",
      "Backward count: 0.6666666666666666\n",
      "\n",
      "-----\n",
      "Permutation: 2301\n",
      "Log Prob: -11.722993850708008\n",
      "Backward count: 0.6666666666666666\n",
      "\n",
      "-----\n",
      "Permutation: 2310\n",
      "Log Prob: -11.716854095458984\n",
      "Backward count: 0.8333333333333334\n",
      "\n",
      "-----\n",
      "Permutation: 3012\n",
      "Log Prob: -11.664937973022461\n",
      "Backward count: 0.5\n",
      "\n",
      "-----\n",
      "Permutation: 3021\n",
      "Log Prob: -11.642269134521484\n",
      "Backward count: 0.6666666666666666\n",
      "\n",
      "-----\n",
      "Permutation: 3102\n",
      "Log Prob: -11.5430908203125\n",
      "Backward count: 0.6666666666666666\n",
      "\n",
      "-----\n",
      "Permutation: 3120\n",
      "Log Prob: -11.605025291442871\n",
      "Backward count: 0.8333333333333334\n",
      "\n",
      "-----\n",
      "Permutation: 3201\n",
      "Log Prob: -11.65650749206543\n",
      "Backward count: 0.8333333333333334\n",
      "\n",
      "-----\n",
      "Permutation: 3210\n",
      "Log Prob: -11.620729446411133\n",
      "Backward count: 1.0\n",
      "\n",
      "-----\n"
     ]
    },
    {
     "data": {
      "image/png": "[encoded data removed]",
      "text/plain": [
       "<Figure size 640x480 with 1 Axes>"
      ]
     },
     "metadata": {},
     "output_type": "display_data"
    }
   ],
   "source": [
    "%autoreload 2\n",
    "\n",
    "from ocd.visualization.birkhoff import get_all_permutation_matrices\n",
    "from ocd.evaluation import backward_relative_penalty\n",
    "\n",
    "all_perms = get_all_permutation_matrices(4)\n",
    "\n",
    "all_scores = []\n",
    "all_backward = []\n",
    "with torch.no_grad():\n",
    "  for perm in all_perms:\n",
    "        perm = perm.float().to(device)\n",
    "        all_log_probs = []\n",
    "        for x in flow_dataloader:\n",
    "              x = x.to(device)\n",
    "              all_log_probs.append(model.log_prob(x, perm.unsqueeze(0).repeat(x.shape[0], 1, 1)).mean().item())\n",
    "        perm_list = [x for x in torch.argmax(perm, dim=1).cpu().numpy().tolist()]\n",
    "        perm_list_formatted = ''.join([str(x) for x in perm_list])\n",
    "        score = sum(all_log_probs) / len(all_log_probs)\n",
    "        backward = backward_relative_penalty(perm_list, graph)\n",
    "        all_scores.append(score)\n",
    "        all_backward.append(backward)\n",
    "        print(f\"Permutation: {perm_list_formatted}\\nLog Prob: {score}\\nBackward count: {backward}\\n\")\n",
    "        print(\"-----\")\n",
    "\n",
    "import matplotlib.pyplot as plt\n",
    "\n",
    "plt.scatter(all_backward, all_scores)\n",
    "plt.xlabel(\"Backward Penalty\")\n",
    "plt.ylabel(\"Log Prob\")\n",
    "plt.show()"
   ]
  },
  {
   "cell_type": "code",
   "execution_count": null,
   "metadata": {},
   "outputs": [],
   "source": []
  }
 ],
 "metadata": {
  "kernelspec": {
   "display_name": "oslow",
   "language": "python",
   "name": "python3"
  },
  "language_info": {
   "codemirror_mode": {
    "name": "ipython",
    "version": 3
   },
   "file_extension": ".py",
   "mimetype": "text/x-python",
   "name": "python",
   "nbconvert_exporter": "python",
   "pygments_lexer": "ipython3",
   "version": "3.10.13"
  }
 },
 "nbformat": 4,
 "nbformat_minor": 2
}
